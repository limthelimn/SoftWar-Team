{
 "cells": [
  {
   "cell_type": "code",
   "execution_count": 551,
   "metadata": {},
   "outputs": [],
   "source": [
    "from queue import Queue"
   ]
  },
  {
   "attachments": {},
   "cell_type": "markdown",
   "metadata": {},
   "source": [
    "### The code and description of the First-In-First-Out (FIFO) algorithm"
   ]
  },
  {
   "cell_type": "code",
   "execution_count": 552,
   "metadata": {},
   "outputs": [],
   "source": [
    "# function  input value of data pages, num and frames\n",
    "#           output value of pageFaults, frames, rateFaults\n",
    "\n",
    "def FIFO_algorithm(dataPages, num, frames):\n",
    "\n",
    "    # value\n",
    "    s = set()           # set of inputPages\n",
    "    queue = Queue()     # created queue to store pages in FIFO manner\n",
    "    pageFaults = 0      # count page faults\n",
    "    \n",
    "    for i in range(num):                    # loop to length of data pages\n",
    "        \n",
    "        if len(s) < frames:                 # check set s lesser item than frames\n",
    "            \n",
    "            if dataPages[i] not in s:       # check incoming item is not present then add to set\n",
    "                s.add(dataPages[i])         # add inputPages in index of set\n",
    "                pageFaults += 1             # count pageFaults\n",
    "                queue.put(dataPages[i])     # put inputPages in index of queue\n",
    "        \n",
    "        else:\n",
    "\n",
    "            if dataPages[i] not in s:\n",
    "                index = queue.queue[0]      # remove the first page from queue\n",
    "                queue.get()\n",
    "                s.remove(index)             # remove from set\n",
    "                s.add(dataPages[i])         # add inputPages in index of set\n",
    "                queue.put(dataPages[i])     # put inputPages in index of queue\n",
    "                pageFaults += 1             # count pageFaults\n",
    "\n",
    "    rateFaults = pageFaults/num*100         # calculate rate faults(%)\n",
    "    \n",
    "    return pageFaults, frames, rateFaults"
   ]
  },
  {
   "attachments": {},
   "cell_type": "markdown",
   "metadata": {},
   "source": [
    "### The code and description of the Optimal algorithm"
   ]
  },
  {
   "cell_type": "code",
   "execution_count": 553,
   "metadata": {},
   "outputs": [],
   "source": [
    "# function  input value of data pages, num and frames\n",
    "#           output value of pageFaults, frames, rateFaults\n",
    "\n",
    "def OP_algorithm(dataPages, num, frames):\n",
    "    \n",
    "    # value\n",
    "    s = []                                          # set of inputPages   \n",
    "    pageFaults = 0                                  # count page faults\n",
    "    pageFrames = [None for i in range(frames)]      # set of num of None until frames for keep page frames\n",
    "         \n",
    "    for i in range(num):\n",
    "        \n",
    "        if dataPages[i] not in s:\n",
    "            \n",
    "            if len(s) < frames:\n",
    "                s.append(dataPages[i])                  # data of set s append dataPages in index i(loop)\n",
    "            else:\n",
    "                \n",
    "                for j in range(len(s)):\n",
    "                    \n",
    "                    if s[j] not in dataPages[i+1:]:     # check s[j] not in dataPages length i+1\n",
    "                        s[j] = dataPages[i]\n",
    "                        break                           # break for data not out of length\n",
    "                    else:\n",
    "                         pageFrames[j] = dataPages[i+1:].index(s[j])            # \n",
    "                else:\n",
    "                    s[pageFrames.index(max( pageFrames))] = dataPages[i]        # ca\n",
    "            \n",
    "            pageFaults += 1\n",
    "            \n",
    "    rateFaults = pageFaults/num*100\n",
    "    \n",
    "    return pageFaults, frames, rateFaults\n",
    "            "
   ]
  },
  {
   "attachments": {},
   "cell_type": "markdown",
   "metadata": {},
   "source": [
    "### The code and description of the Least Recently Used (LRU) algorithm"
   ]
  },
  {
   "cell_type": "code",
   "execution_count": 554,
   "metadata": {},
   "outputs": [],
   "source": [
    "def LRU_algorithm(dataPages, num, frames):\n",
    "    \n",
    "    s = []\n",
    "    stack = []\n",
    "    pageFaults = 0\n",
    "    \n",
    "    for i in dataPages:\n",
    "        if i not in s:\n",
    "            if len(s) < frames:\n",
    "                s.append(i)\n",
    "                stack.append(len(s)-1)\n",
    "            else:\n",
    "                ind = stack.pop(0)\n",
    "                s[ind] = i\n",
    "                stack.append(ind)\n",
    "            pageFaults += 1\n",
    "        else:\n",
    "            stack.append(stack.pop(stack.index(s.index(i))))\n",
    "            \n",
    "    rateFaults = pageFaults/num*100\n",
    "    \n",
    "    return pageFaults, frames, rateFaults"
   ]
  },
  {
   "attachments": {},
   "cell_type": "markdown",
   "metadata": {},
   "source": [
    "### First Ref. string dataset (30 pages)"
   ]
  },
  {
   "cell_type": "code",
   "execution_count": 555,
   "metadata": {},
   "outputs": [],
   "source": [
    "dataPages = [   5, 2, 1, 4, 2, 2, 3, 9, 9, 8, \n",
    "                7, 5, 6, 8, 1, 2, 3, 4, 6, 7,\n",
    "                9, 1, 9, 7, 5, 2, 4, 7, 1, 3  ]\n",
    "\n",
    "num = len(dataPages)\n"
   ]
  },
  {
   "attachments": {},
   "cell_type": "markdown",
   "metadata": {},
   "source": [
    "#### FIFO Test"
   ]
  },
  {
   "cell_type": "code",
   "execution_count": 556,
   "metadata": {},
   "outputs": [
    {
     "name": "stdout",
     "output_type": "stream",
     "text": [
      "Page Faults: 27, with 2 frames\n",
      "Rate Faults: 90.00 %\n",
      "\n",
      "Page Faults: 25, with 3 frames\n",
      "Rate Faults: 83.33 %\n",
      "\n",
      "Page Faults: 24, with 4 frames\n",
      "Rate Faults: 80.00 %\n",
      "\n",
      "Page Faults: 22, with 5 frames\n",
      "Rate Faults: 73.33 %\n",
      "\n",
      "Page Faults: 18, with 6 frames\n",
      "Rate Faults: 60.00 %\n",
      "\n"
     ]
    }
   ],
   "source": [
    "\n",
    "(pageFaults, frames, rateFaults) = FIFO_algorithm(dataPages, num, 2)\n",
    "print(f'Page Faults: {pageFaults}, with {frames} frames\\nRate Faults: {rateFaults:.2f} %\\n')\n",
    "\n",
    "(pageFaults, frames, rateFaults) = FIFO_algorithm(dataPages, num, 3)\n",
    "print(f'Page Faults: {pageFaults}, with {frames} frames\\nRate Faults: {rateFaults:.2f} %\\n')\n",
    "\n",
    "(pageFaults, frames, rateFaults) = FIFO_algorithm(dataPages, num, 4)\n",
    "print(f'Page Faults: {pageFaults}, with {frames} frames\\nRate Faults: {rateFaults:.2f} %\\n')\n",
    "\n",
    "(pageFaults, frames, rateFaults) = FIFO_algorithm(dataPages, num, 5)\n",
    "print(f'Page Faults: {pageFaults}, with {frames} frames\\nRate Faults: {rateFaults:.2f} %\\n')\n",
    "\n",
    "(pageFaults, frames, rateFaults) = FIFO_algorithm(dataPages, num, 6)\n",
    "print(f'Page Faults: {pageFaults}, with {frames} frames\\nRate Faults: {rateFaults:.2f} %\\n')\n"
   ]
  },
  {
   "attachments": {},
   "cell_type": "markdown",
   "metadata": {},
   "source": [
    "#### OP Test"
   ]
  },
  {
   "cell_type": "code",
   "execution_count": 557,
   "metadata": {},
   "outputs": [
    {
     "name": "stdout",
     "output_type": "stream",
     "text": [
      "Page Faults: 23, with 2 frames\n",
      "Rate Faults: 76.67 %\n",
      "\n",
      "Page Faults: 19, with 3 frames\n",
      "Rate Faults: 63.33 %\n",
      "\n",
      "Page Faults: 16, with 4 frames\n",
      "Rate Faults: 53.33 %\n",
      "\n",
      "Page Faults: 14, with 5 frames\n",
      "Rate Faults: 46.67 %\n",
      "\n",
      "Page Faults: 12, with 6 frames\n",
      "Rate Faults: 40.00 %\n",
      "\n"
     ]
    }
   ],
   "source": [
    "(pageFaults, frames, rateFaults) = OP_algorithm(dataPages, num, 2)\n",
    "print(f'Page Faults: {pageFaults}, with {frames} frames\\nRate Faults: {rateFaults:.2f} %\\n')\n",
    "\n",
    "(pageFaults, frames, rateFaults) = OP_algorithm(dataPages, num, 3)\n",
    "print(f'Page Faults: {pageFaults}, with {frames} frames\\nRate Faults: {rateFaults:.2f} %\\n')\n",
    "\n",
    "(pageFaults, frames, rateFaults) = OP_algorithm(dataPages, num, 4)\n",
    "print(f'Page Faults: {pageFaults}, with {frames} frames\\nRate Faults: {rateFaults:.2f} %\\n')\n",
    "\n",
    "(pageFaults, frames, rateFaults) = OP_algorithm(dataPages, num, 5)\n",
    "print(f'Page Faults: {pageFaults}, with {frames} frames\\nRate Faults: {rateFaults:.2f} %\\n')\n",
    "\n",
    "(pageFaults, frames, rateFaults) = OP_algorithm(dataPages, num, 6)\n",
    "print(f'Page Faults: {pageFaults}, with {frames} frames\\nRate Faults: {rateFaults:.2f} %\\n')\n"
   ]
  },
  {
   "attachments": {},
   "cell_type": "markdown",
   "metadata": {},
   "source": [
    "#### LRU Test"
   ]
  },
  {
   "cell_type": "code",
   "execution_count": 558,
   "metadata": {},
   "outputs": [
    {
     "name": "stdout",
     "output_type": "stream",
     "text": [
      "Page Faults: 27, with 2 frames\n",
      "Rate Faults: 90.00 %\n",
      "\n",
      "Page Faults: 25, with 3 frames\n",
      "Rate Faults: 83.33 %\n",
      "\n",
      "Page Faults: 23, with 4 frames\n",
      "Rate Faults: 76.67 %\n",
      "\n",
      "Page Faults: 23, with 5 frames\n",
      "Rate Faults: 76.67 %\n",
      "\n",
      "Page Faults: 21, with 6 frames\n",
      "Rate Faults: 70.00 %\n",
      "\n"
     ]
    }
   ],
   "source": [
    "(pageFaults, frames, rateFaults) = LRU_algorithm(dataPages, num, 2)\n",
    "print(f'Page Faults: {pageFaults}, with {frames} frames\\nRate Faults: {rateFaults:.2f} %\\n')\n",
    "\n",
    "(pageFaults, frames, rateFaults) = LRU_algorithm(dataPages, num, 3)\n",
    "print(f'Page Faults: {pageFaults}, with {frames} frames\\nRate Faults: {rateFaults:.2f} %\\n')\n",
    "\n",
    "(pageFaults, frames, rateFaults) = LRU_algorithm(dataPages, num, 4)\n",
    "print(f'Page Faults: {pageFaults}, with {frames} frames\\nRate Faults: {rateFaults:.2f} %\\n')\n",
    "\n",
    "(pageFaults, frames, rateFaults) = LRU_algorithm(dataPages, num, 5)\n",
    "print(f'Page Faults: {pageFaults}, with {frames} frames\\nRate Faults: {rateFaults:.2f} %\\n')\n",
    "\n",
    "(pageFaults, frames, rateFaults) = LRU_algorithm(dataPages, num, 6)\n",
    "print(f'Page Faults: {pageFaults}, with {frames} frames\\nRate Faults: {rateFaults:.2f} %\\n')"
   ]
  },
  {
   "attachments": {},
   "cell_type": "markdown",
   "metadata": {},
   "source": [
    "### Second Ref. string dataset (50 pages)"
   ]
  },
  {
   "cell_type": "code",
   "execution_count": 559,
   "metadata": {},
   "outputs": [],
   "source": [
    "dataPages = [   1, 2, 4, 7, 5, 3, 3, 7, 9, 8, \n",
    "                3, 6, 5, 4, 1, 2, 2, 1, 1, 4,\n",
    "                7, 3, 2, 7, 5, 6, 4, 8, 2, 3,\n",
    "                3, 1, 5, 1, 5, 2, 3, 2, 1, 1,\n",
    "                5, 6, 8, 3, 2, 2, 1, 7, 2, 9]\n",
    "\n",
    "num = len(dataPages)"
   ]
  },
  {
   "attachments": {},
   "cell_type": "markdown",
   "metadata": {},
   "source": [
    "#### FIFO Test Data 2nd"
   ]
  },
  {
   "cell_type": "code",
   "execution_count": 560,
   "metadata": {},
   "outputs": [
    {
     "name": "stdout",
     "output_type": "stream",
     "text": [
      "Page Faults: 40, with 2 frames\n",
      "Rate Faults: 80.00 %\n",
      "\n",
      "Page Faults: 34, with 3 frames\n",
      "Rate Faults: 68.00 %\n",
      "\n",
      "Page Faults: 30, with 4 frames\n",
      "Rate Faults: 60.00 %\n",
      "\n",
      "Page Faults: 27, with 5 frames\n",
      "Rate Faults: 54.00 %\n",
      "\n",
      "Page Faults: 25, with 6 frames\n",
      "Rate Faults: 50.00 %\n",
      "\n"
     ]
    }
   ],
   "source": [
    "(pageFaults, frames, rateFaults) = FIFO_algorithm(dataPages, num, 2)\n",
    "print(f'Page Faults: {pageFaults}, with {frames} frames\\nRate Faults: {rateFaults:.2f} %\\n')\n",
    "\n",
    "(pageFaults, frames, rateFaults) = FIFO_algorithm(dataPages, num, 3)\n",
    "print(f'Page Faults: {pageFaults}, with {frames} frames\\nRate Faults: {rateFaults:.2f} %\\n')\n",
    "\n",
    "(pageFaults, frames, rateFaults) = FIFO_algorithm(dataPages, num, 4)\n",
    "print(f'Page Faults: {pageFaults}, with {frames} frames\\nRate Faults: {rateFaults:.2f} %\\n')\n",
    "\n",
    "(pageFaults, frames, rateFaults) = FIFO_algorithm(dataPages, num, 5)\n",
    "print(f'Page Faults: {pageFaults}, with {frames} frames\\nRate Faults: {rateFaults:.2f} %\\n')\n",
    "\n",
    "(pageFaults, frames, rateFaults) = FIFO_algorithm(dataPages, num, 6)\n",
    "print(f'Page Faults: {pageFaults}, with {frames} frames\\nRate Faults: {rateFaults:.2f} %\\n')"
   ]
  },
  {
   "attachments": {},
   "cell_type": "markdown",
   "metadata": {},
   "source": [
    "#### OP Test Data 2nd"
   ]
  },
  {
   "cell_type": "code",
   "execution_count": 561,
   "metadata": {},
   "outputs": [
    {
     "name": "stdout",
     "output_type": "stream",
     "text": [
      "Page Faults: 34, with 2 frames\n",
      "Rate Faults: 68.00 %\n",
      "\n",
      "Page Faults: 27, with 3 frames\n",
      "Rate Faults: 54.00 %\n",
      "\n",
      "Page Faults: 21, with 4 frames\n",
      "Rate Faults: 42.00 %\n",
      "\n",
      "Page Faults: 17, with 5 frames\n",
      "Rate Faults: 34.00 %\n",
      "\n",
      "Page Faults: 14, with 6 frames\n",
      "Rate Faults: 28.00 %\n",
      "\n"
     ]
    }
   ],
   "source": [
    "(pageFaults, frames, rateFaults) = OP_algorithm(dataPages, num, 2)\n",
    "print(f'Page Faults: {pageFaults}, with {frames} frames\\nRate Faults: {rateFaults:.2f} %\\n')\n",
    "\n",
    "(pageFaults, frames, rateFaults) = OP_algorithm(dataPages, num, 3)\n",
    "print(f'Page Faults: {pageFaults}, with {frames} frames\\nRate Faults: {rateFaults:.2f} %\\n')\n",
    "\n",
    "(pageFaults, frames, rateFaults) = OP_algorithm(dataPages, num, 4)\n",
    "print(f'Page Faults: {pageFaults}, with {frames} frames\\nRate Faults: {rateFaults:.2f} %\\n')\n",
    "\n",
    "(pageFaults, frames, rateFaults) = OP_algorithm(dataPages, num, 5)\n",
    "print(f'Page Faults: {pageFaults}, with {frames} frames\\nRate Faults: {rateFaults:.2f} %\\n')\n",
    "\n",
    "(pageFaults, frames, rateFaults) = OP_algorithm(dataPages, num, 6)\n",
    "print(f'Page Faults: {pageFaults}, with {frames} frames\\nRate Faults: {rateFaults:.2f} %\\n')"
   ]
  },
  {
   "attachments": {},
   "cell_type": "markdown",
   "metadata": {},
   "source": [
    "#### LRU Test Data 2nd"
   ]
  },
  {
   "cell_type": "code",
   "execution_count": 562,
   "metadata": {},
   "outputs": [
    {
     "name": "stdout",
     "output_type": "stream",
     "text": [
      "Page Faults: 40, with 2 frames\n",
      "Rate Faults: 80.00 %\n",
      "\n",
      "Page Faults: 36, with 3 frames\n",
      "Rate Faults: 72.00 %\n",
      "\n",
      "Page Faults: 31, with 4 frames\n",
      "Rate Faults: 62.00 %\n",
      "\n",
      "Page Faults: 30, with 5 frames\n",
      "Rate Faults: 60.00 %\n",
      "\n",
      "Page Faults: 22, with 6 frames\n",
      "Rate Faults: 44.00 %\n",
      "\n"
     ]
    }
   ],
   "source": [
    "(pageFaults, frames, rateFaults) = LRU_algorithm(dataPages, num, 2)\n",
    "print(f'Page Faults: {pageFaults}, with {frames} frames\\nRate Faults: {rateFaults:.2f} %\\n')\n",
    "\n",
    "(pageFaults, frames, rateFaults) = LRU_algorithm(dataPages, num, 3)\n",
    "print(f'Page Faults: {pageFaults}, with {frames} frames\\nRate Faults: {rateFaults:.2f} %\\n')\n",
    "\n",
    "(pageFaults, frames, rateFaults) = LRU_algorithm(dataPages, num, 4)\n",
    "print(f'Page Faults: {pageFaults}, with {frames} frames\\nRate Faults: {rateFaults:.2f} %\\n')\n",
    "\n",
    "(pageFaults, frames, rateFaults) = LRU_algorithm(dataPages, num, 5)\n",
    "print(f'Page Faults: {pageFaults}, with {frames} frames\\nRate Faults: {rateFaults:.2f} %\\n')\n",
    "\n",
    "(pageFaults, frames, rateFaults) = LRU_algorithm(dataPages, num, 6)\n",
    "print(f'Page Faults: {pageFaults}, with {frames} frames\\nRate Faults: {rateFaults:.2f} %\\n')"
   ]
  },
  {
   "attachments": {},
   "cell_type": "markdown",
   "metadata": {},
   "source": [
    "### Third Ref. string dataset (100 pages)"
   ]
  },
  {
   "cell_type": "code",
   "execution_count": 563,
   "metadata": {},
   "outputs": [],
   "source": [
    "dataPages = [   9, 1, 2, 5, 5, 7, 3, 8, 1, 2, \n",
    "                3, 5, 4, 6, 1, 3, 9, 7, 2, 3,\n",
    "                5, 6, 4, 1, 2, 3, 6, 7, 9, 1,\n",
    "                1, 1, 5, 2, 2, 5, 7, 4, 2, 1,\n",
    "                4, 6, 9, 7, 6, 1, 3, 4, 5, 6,\n",
    "                6, 4, 2, 1, 6, 3, 7, 4, 2, 8, \n",
    "                1, 1, 2, 3, 7, 3, 3, 8, 5, 9,\n",
    "                7, 5, 2, 1, 1, 6, 2, 1, 2, 3,\n",
    "                4, 1, 6, 1, 2, 4, 7, 9, 9, 1,\n",
    "                2, 5, 7, 2, 1, 3, 4, 5, 6, 1]\n",
    "\n",
    "num = len(dataPages)"
   ]
  },
  {
   "attachments": {},
   "cell_type": "markdown",
   "metadata": {},
   "source": [
    "#### FIFO Test Data set 3rd"
   ]
  },
  {
   "cell_type": "code",
   "execution_count": 564,
   "metadata": {},
   "outputs": [
    {
     "name": "stdout",
     "output_type": "stream",
     "text": [
      "Page Faults: 87, with 2 frames\n",
      "Rate Faults: 87.00 %\n",
      "\n",
      "Page Faults: 77, with 3 frames\n",
      "Rate Faults: 77.00 %\n",
      "\n",
      "Page Faults: 66, with 4 frames\n",
      "Rate Faults: 66.00 %\n",
      "\n",
      "Page Faults: 58, with 5 frames\n",
      "Rate Faults: 58.00 %\n",
      "\n",
      "Page Faults: 43, with 6 frames\n",
      "Rate Faults: 43.00 %\n",
      "\n"
     ]
    }
   ],
   "source": [
    "(pageFaults, frames, rateFaults) = FIFO_algorithm(dataPages, num, 2)\n",
    "print(f'Page Faults: {pageFaults}, with {frames} frames\\nRate Faults: {rateFaults:.2f} %\\n')\n",
    "\n",
    "(pageFaults, frames, rateFaults) = FIFO_algorithm(dataPages, num, 3)\n",
    "print(f'Page Faults: {pageFaults}, with {frames} frames\\nRate Faults: {rateFaults:.2f} %\\n')\n",
    "\n",
    "(pageFaults, frames, rateFaults) = FIFO_algorithm(dataPages, num, 4)\n",
    "print(f'Page Faults: {pageFaults}, with {frames} frames\\nRate Faults: {rateFaults:.2f} %\\n')\n",
    "\n",
    "(pageFaults, frames, rateFaults) = FIFO_algorithm(dataPages, num, 5)\n",
    "print(f'Page Faults: {pageFaults}, with {frames} frames\\nRate Faults: {rateFaults:.2f} %\\n')\n",
    "\n",
    "(pageFaults, frames, rateFaults) = FIFO_algorithm(dataPages, num, 6)\n",
    "print(f'Page Faults: {pageFaults}, with {frames} frames\\nRate Faults: {rateFaults:.2f} %\\n')"
   ]
  },
  {
   "attachments": {},
   "cell_type": "markdown",
   "metadata": {},
   "source": [
    "#### OP Test Data set 3rd"
   ]
  },
  {
   "cell_type": "code",
   "execution_count": 565,
   "metadata": {},
   "outputs": [
    {
     "name": "stdout",
     "output_type": "stream",
     "text": [
      "Page Faults: 70, with 2 frames\n",
      "Rate Faults: 70.00 %\n",
      "\n",
      "Page Faults: 54, with 3 frames\n",
      "Rate Faults: 54.00 %\n",
      "\n",
      "Page Faults: 41, with 4 frames\n",
      "Rate Faults: 41.00 %\n",
      "\n",
      "Page Faults: 31, with 5 frames\n",
      "Rate Faults: 31.00 %\n",
      "\n",
      "Page Faults: 23, with 6 frames\n",
      "Rate Faults: 23.00 %\n",
      "\n"
     ]
    }
   ],
   "source": [
    "(pageFaults, frames, rateFaults) = OP_algorithm(dataPages, num, 2)\n",
    "print(f'Page Faults: {pageFaults}, with {frames} frames\\nRate Faults: {rateFaults:.2f} %\\n')\n",
    "\n",
    "(pageFaults, frames, rateFaults) = OP_algorithm(dataPages, num, 3)\n",
    "print(f'Page Faults: {pageFaults}, with {frames} frames\\nRate Faults: {rateFaults:.2f} %\\n')\n",
    "\n",
    "(pageFaults, frames, rateFaults) = OP_algorithm(dataPages, num, 4)\n",
    "print(f'Page Faults: {pageFaults}, with {frames} frames\\nRate Faults: {rateFaults:.2f} %\\n')\n",
    "\n",
    "(pageFaults, frames, rateFaults) = OP_algorithm(dataPages, num, 5)\n",
    "print(f'Page Faults: {pageFaults}, with {frames} frames\\nRate Faults: {rateFaults:.2f} %\\n')\n",
    "\n",
    "(pageFaults, frames, rateFaults) = OP_algorithm(dataPages, num, 6)\n",
    "print(f'Page Faults: {pageFaults}, with {frames} frames\\nRate Faults: {rateFaults:.2f} %\\n')"
   ]
  },
  {
   "attachments": {},
   "cell_type": "markdown",
   "metadata": {},
   "source": [
    "#### LRU Test Data set 3rd"
   ]
  },
  {
   "cell_type": "code",
   "execution_count": 566,
   "metadata": {},
   "outputs": [
    {
     "name": "stdout",
     "output_type": "stream",
     "text": [
      "Page Faults: 87, with 2 frames\n",
      "Rate Faults: 87.00 %\n",
      "\n",
      "Page Faults: 79, with 3 frames\n",
      "Rate Faults: 79.00 %\n",
      "\n",
      "Page Faults: 72, with 4 frames\n",
      "Rate Faults: 72.00 %\n",
      "\n",
      "Page Faults: 58, with 5 frames\n",
      "Rate Faults: 58.00 %\n",
      "\n",
      "Page Faults: 41, with 6 frames\n",
      "Rate Faults: 41.00 %\n",
      "\n"
     ]
    }
   ],
   "source": [
    "(pageFaults, frames, rateFaults) = LRU_algorithm(dataPages, num, 2)\n",
    "print(f'Page Faults: {pageFaults}, with {frames} frames\\nRate Faults: {rateFaults:.2f} %\\n')\n",
    "\n",
    "(pageFaults, frames, rateFaults) = LRU_algorithm(dataPages, num, 3)\n",
    "print(f'Page Faults: {pageFaults}, with {frames} frames\\nRate Faults: {rateFaults:.2f} %\\n')\n",
    "\n",
    "(pageFaults, frames, rateFaults) = LRU_algorithm(dataPages, num, 4)\n",
    "print(f'Page Faults: {pageFaults}, with {frames} frames\\nRate Faults: {rateFaults:.2f} %\\n')\n",
    "\n",
    "(pageFaults, frames, rateFaults) = LRU_algorithm(dataPages, num, 5)\n",
    "print(f'Page Faults: {pageFaults}, with {frames} frames\\nRate Faults: {rateFaults:.2f} %\\n')\n",
    "\n",
    "(pageFaults, frames, rateFaults) = LRU_algorithm(dataPages, num, 6)\n",
    "print(f'Page Faults: {pageFaults}, with {frames} frames\\nRate Faults: {rateFaults:.2f} %\\n')"
   ]
  }
 ],
 "metadata": {
  "kernelspec": {
   "display_name": "Python 3",
   "language": "python",
   "name": "python3"
  },
  "language_info": {
   "codemirror_mode": {
    "name": "ipython",
    "version": 3
   },
   "file_extension": ".py",
   "mimetype": "text/x-python",
   "name": "python",
   "nbconvert_exporter": "python",
   "pygments_lexer": "ipython3",
   "version": "3.11.1"
  },
  "orig_nbformat": 4,
  "vscode": {
   "interpreter": {
    "hash": "b48b29e65596cde635d29f6349a017151cbf0e69b86a8bd26f26ef15e4f1a626"
   }
  }
 },
 "nbformat": 4,
 "nbformat_minor": 2
}
